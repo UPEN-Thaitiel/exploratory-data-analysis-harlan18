{
 "cells": [
  {
   "attachments": {},
   "cell_type": "markdown",
   "id": "10ab6f70",
   "metadata": {},
   "source": [
    "## Introduction to Numpy\n",
    "\n",
    "#### **Name: Cesar Alonso Lopez Anguiano** <Insert name>\n"
   ]
  },
  {
   "cell_type": "markdown",
   "id": "cb7056d7",
   "metadata": {},
   "source": [
    "#### Import numpy"
   ]
  },
  {
   "cell_type": "code",
   "execution_count": 1,
   "id": "4de0cf3f",
   "metadata": {},
   "outputs": [],
   "source": [
    "import numpy as np"
   ]
  },
  {
   "cell_type": "markdown",
   "id": "4d8550aa",
   "metadata": {},
   "source": [
    "#### Numpy operations\n",
    "1.- Create array a with values from 1-5 \\\n",
    "2.- create an array b with values from 6 - 10"
   ]
  },
  {
   "cell_type": "code",
   "execution_count": 5,
   "id": "7b8cdb38",
   "metadata": {},
   "outputs": [
    {
     "data": {
      "text/plain": [
       "array([1, 2, 3, 4, 5])"
      ]
     },
     "execution_count": 5,
     "metadata": {},
     "output_type": "execute_result"
    }
   ],
   "source": [
    "a = np.arange(1, 6)\n",
    "a"
   ]
  },
  {
   "cell_type": "code",
   "execution_count": 6,
   "id": "ebbc17d3",
   "metadata": {},
   "outputs": [
    {
     "data": {
      "text/plain": [
       "array([ 6,  7,  8,  9, 10])"
      ]
     },
     "execution_count": 6,
     "metadata": {},
     "output_type": "execute_result"
    }
   ],
   "source": [
    "b = np.arange(6, 11)\n",
    "b\n"
   ]
  },
  {
   "cell_type": "markdown",
   "id": "1b1c7c38",
   "metadata": {},
   "source": [
    "#### Matrix Operations with numpy\n",
    "\n",
    "1. Create a 3x3 matrix in numpy with the following values: \n",
    "\n",
    "⎡ 1  2  3 ⎤ \\\n",
    "⎢ 4  5  6 ⎥ \\\n",
    "⎣ 7  8  9 ⎦ \n",
    "\n",
    "2.- Transpose the matrix and save it into a transpose variable \\\n",
    "3.- Add both matrix \\\n",
    "4.- Multiply both matrix\n",
    "\n"
   ]
  },
  {
   "cell_type": "code",
   "execution_count": 8,
   "id": "439c836d",
   "metadata": {},
   "outputs": [
    {
     "data": {
      "text/plain": [
       "array([[1, 2, 3],\n",
       "       [4, 5, 6],\n",
       "       [7, 8, 9]])"
      ]
     },
     "execution_count": 8,
     "metadata": {},
     "output_type": "execute_result"
    }
   ],
   "source": [
    "matrix = np.array([[1,2,3],[4,5,6],[7,8,9]])\n",
    "matrix"
   ]
  },
  {
   "cell_type": "code",
   "execution_count": 9,
   "id": "6d486970",
   "metadata": {},
   "outputs": [
    {
     "data": {
      "text/plain": [
       "array([[1, 4, 7],\n",
       "       [2, 5, 8],\n",
       "       [3, 6, 9]])"
      ]
     },
     "execution_count": 9,
     "metadata": {},
     "output_type": "execute_result"
    }
   ],
   "source": [
    "transpose = matrix.T\n",
    "transpose"
   ]
  },
  {
   "cell_type": "code",
   "execution_count": 10,
   "id": "f42190f6",
   "metadata": {},
   "outputs": [
    {
     "data": {
      "text/plain": [
       "array([[ 2,  6, 10],\n",
       "       [ 6, 10, 14],\n",
       "       [10, 14, 18]])"
      ]
     },
     "execution_count": 10,
     "metadata": {},
     "output_type": "execute_result"
    }
   ],
   "source": [
    "sum_matrix = matrix + transpose\n",
    "sum_matrix\n"
   ]
  },
  {
   "cell_type": "code",
   "execution_count": 11,
   "id": "5c364ae7",
   "metadata": {},
   "outputs": [
    {
     "data": {
      "text/plain": [
       "array([[ 14,  32,  50],\n",
       "       [ 32,  77, 122],\n",
       "       [ 50, 122, 194]])"
      ]
     },
     "execution_count": 11,
     "metadata": {},
     "output_type": "execute_result"
    }
   ],
   "source": [
    "product_matrix = np.dot(matrix, transpose)\n",
    "product_matrix\n"
   ]
  },
  {
   "cell_type": "markdown",
   "id": "0c6641d6",
   "metadata": {},
   "source": [
    "#### numpy indexing\n",
    "\n",
    "1.- Create a numpy array [10, 20, 30, 40, 50, 60] \\\n",
    "2.- print second and last index \\\n",
    "3.- print elements 1-3 \\\n",
    "4.- print all but the first 2 elements \\\n",
    "5.- reshape the array to be a 2x3 matrix "
   ]
  },
  {
   "cell_type": "code",
   "execution_count": 13,
   "id": "3fcfaa53",
   "metadata": {},
   "outputs": [
    {
     "data": {
      "text/plain": [
       "array([10, 20, 30, 40, 50, 60])"
      ]
     },
     "execution_count": 13,
     "metadata": {},
     "output_type": "execute_result"
    }
   ],
   "source": [
    "arr = np.array([10, 20, 30, 40, 50, 60])\n",
    "arr"
   ]
  },
  {
   "cell_type": "code",
   "execution_count": 17,
   "id": "d7ccc8f9",
   "metadata": {},
   "outputs": [
    {
     "data": {
      "text/plain": [
       "np.int64(20)"
      ]
     },
     "execution_count": 17,
     "metadata": {},
     "output_type": "execute_result"
    }
   ],
   "source": [
    "arr[1]\n"
   ]
  },
  {
   "cell_type": "code",
   "execution_count": 18,
   "id": "d95f4e8c",
   "metadata": {},
   "outputs": [
    {
     "data": {
      "text/plain": [
       "np.int64(60)"
      ]
     },
     "execution_count": 18,
     "metadata": {},
     "output_type": "execute_result"
    }
   ],
   "source": [
    "arr[-1]"
   ]
  },
  {
   "cell_type": "code",
   "execution_count": 19,
   "id": "1937fd4b",
   "metadata": {},
   "outputs": [
    {
     "data": {
      "text/plain": [
       "array([20, 30, 40])"
      ]
     },
     "execution_count": 19,
     "metadata": {},
     "output_type": "execute_result"
    }
   ],
   "source": [
    "arr[1:4]"
   ]
  },
  {
   "cell_type": "code",
   "execution_count": 20,
   "id": "ea829c73",
   "metadata": {},
   "outputs": [
    {
     "data": {
      "text/plain": [
       "array([30, 40, 50, 60])"
      ]
     },
     "execution_count": 20,
     "metadata": {},
     "output_type": "execute_result"
    }
   ],
   "source": [
    "arr[2:]"
   ]
  },
  {
   "cell_type": "code",
   "execution_count": 22,
   "id": "0a98a9e4",
   "metadata": {},
   "outputs": [
    {
     "data": {
      "text/plain": [
       "array([[10, 20, 30],\n",
       "       [40, 50, 60]])"
      ]
     },
     "execution_count": 22,
     "metadata": {},
     "output_type": "execute_result"
    }
   ],
   "source": [
    "reshaped_arr = arr.reshape((2, 3))\n",
    "reshaped_arr"
   ]
  },
  {
   "cell_type": "markdown",
   "id": "013209d7",
   "metadata": {},
   "source": [
    "#### Creating random arrays\n",
    "1- Create a 3x3 matrix with random numbers. \\\n",
    "2.- Create a 2x3 matrix with random integers.\n"
   ]
  },
  {
   "cell_type": "code",
   "execution_count": 23,
   "id": "61f38312",
   "metadata": {},
   "outputs": [
    {
     "data": {
      "text/plain": [
       "array([[0.37454012, 0.95071431, 0.73199394],\n",
       "       [0.59865848, 0.15601864, 0.15599452],\n",
       "       [0.05808361, 0.86617615, 0.60111501]])"
      ]
     },
     "execution_count": 23,
     "metadata": {},
     "output_type": "execute_result"
    }
   ],
   "source": [
    "np.random.seed(42)\n",
    "random_array = np.random.rand(3,3)\n",
    "random_array\n"
   ]
  },
  {
   "cell_type": "code",
   "execution_count": 25,
   "id": "989760ee",
   "metadata": {},
   "outputs": [
    {
     "data": {
      "text/plain": [
       "array([[0, 9, 5],\n",
       "       [8, 0, 9]], dtype=int32)"
      ]
     },
     "execution_count": 25,
     "metadata": {},
     "output_type": "execute_result"
    }
   ],
   "source": [
    "random_array_int = np.random.randint(0,10, size=(2,3))\n",
    "random_array_int"
   ]
  },
  {
   "cell_type": "markdown",
   "id": "44a70654",
   "metadata": {},
   "source": [
    "#### Boolean Indexing and Filtering\n",
    "1.- Generate a random dataset in a 5x5 matrixs filled with integers from 1-50. \\\n",
    "2.- Filter the values that are bigger than 25 and replace them with 0. \\\n",
    "3.- Calculate the basic statisticañ dispersion and tendency meassurements."
   ]
  },
  {
   "cell_type": "code",
   "execution_count": 26,
   "id": "2ca92c15",
   "metadata": {},
   "outputs": [
    {
     "data": {
      "text/plain": [
       "array([[28, 16, 15, 47, 44],\n",
       "       [ 3, 37,  7, 21,  9],\n",
       "       [39, 18,  4, 25, 14],\n",
       "       [50,  9, 26,  2, 20],\n",
       "       [28, 47,  7, 44,  8]], dtype=int32)"
      ]
     },
     "execution_count": 26,
     "metadata": {},
     "output_type": "execute_result"
    }
   ],
   "source": [
    "dataset = np.random.randint(1,51, size=[5,5])\n",
    "dataset"
   ]
  },
  {
   "cell_type": "code",
   "execution_count": 27,
   "id": "770293b9",
   "metadata": {},
   "outputs": [
    {
     "data": {
      "text/plain": [
       "array([[ 0, 16, 15,  0,  0],\n",
       "       [ 3,  0,  7, 21,  9],\n",
       "       [ 0, 18,  4, 25, 14],\n",
       "       [ 0,  9,  0,  2, 20],\n",
       "       [ 0,  0,  7,  0,  8]], dtype=int32)"
      ]
     },
     "execution_count": 27,
     "metadata": {},
     "output_type": "execute_result"
    }
   ],
   "source": [
    "dataset[dataset > 25] = 0\n",
    "dataset"
   ]
  },
  {
   "cell_type": "code",
   "execution_count": 30,
   "id": "addf820c",
   "metadata": {},
   "outputs": [
    {
     "data": {
      "text/plain": [
       "np.float64(7.12)"
      ]
     },
     "execution_count": 30,
     "metadata": {},
     "output_type": "execute_result"
    }
   ],
   "source": [
    "np.mean(dataset)"
   ]
  },
  {
   "cell_type": "code",
   "execution_count": 31,
   "id": "469a37e7",
   "metadata": {},
   "outputs": [
    {
     "data": {
      "text/plain": [
       "np.float64(4.0)"
      ]
     },
     "execution_count": 31,
     "metadata": {},
     "output_type": "execute_result"
    }
   ],
   "source": [
    "np.median(dataset)"
   ]
  },
  {
   "cell_type": "code",
   "execution_count": 32,
   "id": "b19a3f0e",
   "metadata": {},
   "outputs": [
    {
     "data": {
      "text/plain": [
       "np.float64(7.880710627855841)"
      ]
     },
     "execution_count": 32,
     "metadata": {},
     "output_type": "execute_result"
    }
   ],
   "source": [
    "np.std(dataset)"
   ]
  },
  {
   "cell_type": "code",
   "execution_count": 33,
   "id": "963855db",
   "metadata": {},
   "outputs": [
    {
     "data": {
      "text/plain": [
       "np.float64(62.105599999999995)"
      ]
     },
     "execution_count": 33,
     "metadata": {},
     "output_type": "execute_result"
    }
   ],
   "source": [
    "np.var(dataset)"
   ]
  },
  {
   "cell_type": "markdown",
   "id": "7a97908f",
   "metadata": {},
   "source": [
    "#### Homework exercise numpy\n",
    "\n",
    "⎡ 2  3 ⎤ \\\n",
    "⎣ 0  1 ⎦ \n",
    "\n",
    "\n",
    "⎡ 1  2 ⎤  \n",
    "⎣ 4  0 ⎦ \n",
    "\n",
    "1. The product\n",
    "2. Product's transpose.\n",
    "3. Determinant of the product\n",
    "4. The inverse of the product."
   ]
  },
  {
   "cell_type": "code",
   "execution_count": 35,
   "id": "1ab68367",
   "metadata": {},
   "outputs": [],
   "source": [
    "A = np.array([[2, 3],[0, 1]])\n",
    "B = np.array([[1, 2],[4, 0]])"
   ]
  },
  {
   "cell_type": "code",
   "execution_count": 39,
   "id": "d1448e6c",
   "metadata": {},
   "outputs": [
    {
     "data": {
      "text/plain": [
       "array([[14,  4],\n",
       "       [ 4,  0]])"
      ]
     },
     "execution_count": 39,
     "metadata": {},
     "output_type": "execute_result"
    }
   ],
   "source": [
    "C = np.dot(A, B)\n",
    "C"
   ]
  },
  {
   "cell_type": "code",
   "execution_count": 40,
   "id": "46c5279c",
   "metadata": {},
   "outputs": [
    {
     "data": {
      "text/plain": [
       "array([[14,  4],\n",
       "       [ 4,  0]])"
      ]
     },
     "execution_count": 40,
     "metadata": {},
     "output_type": "execute_result"
    }
   ],
   "source": [
    "transpose = C.T\n",
    "transpose"
   ]
  },
  {
   "cell_type": "code",
   "execution_count": 41,
   "id": "40cd143e",
   "metadata": {},
   "outputs": [
    {
     "data": {
      "text/plain": [
       "np.float64(-15.999999999999998)"
      ]
     },
     "execution_count": 41,
     "metadata": {},
     "output_type": "execute_result"
    }
   ],
   "source": [
    "determinante = np.linalg.det(C)\n",
    "determinante"
   ]
  },
  {
   "cell_type": "code",
   "execution_count": 42,
   "id": "c06f4303",
   "metadata": {},
   "outputs": [
    {
     "data": {
      "text/plain": [
       "array([[ 0.   ,  0.25 ],\n",
       "       [ 0.25 , -0.875]])"
      ]
     },
     "execution_count": 42,
     "metadata": {},
     "output_type": "execute_result"
    }
   ],
   "source": [
    "inverse = np.linalg.inv(C)\n",
    "inverse"
   ]
  }
 ],
 "metadata": {
  "kernelspec": {
   "display_name": "Python 3",
   "language": "python",
   "name": "python3"
  },
  "language_info": {
   "codemirror_mode": {
    "name": "ipython",
    "version": 3
   },
   "file_extension": ".py",
   "mimetype": "text/x-python",
   "name": "python",
   "nbconvert_exporter": "python",
   "pygments_lexer": "ipython3",
   "version": "3.13.2"
  }
 },
 "nbformat": 4,
 "nbformat_minor": 5
}
